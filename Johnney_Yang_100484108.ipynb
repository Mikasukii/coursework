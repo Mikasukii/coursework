{
 "cells": [
  {
   "cell_type": "markdown",
   "metadata": {
    "id": "0SC79CWyO1fG"
   },
   "source": [
    "# **Introductory Programming**\n",
    "**Assignment:\tCoursework 001**\n",
    "\n",
    "**Prepared by: Johnney_Yang_100484108**\n"
   ]
  },
  {
   "cell_type": "markdown",
   "metadata": {
    "id": "4lCGQLUbO-7E"
   },
   "source": [
    "1. **Question1**\n"
   ]
  },
  {
   "cell_type": "code",
   "execution_count": 7,
   "metadata": {
    "id": "cuujIl627Q-y"
   },
   "outputs": [
    {
     "name": "stdin",
     "output_type": "stream",
     "text": [
      "write first number:  4\n",
      "write second number:  100\n"
     ]
    },
    {
     "name": "stdout",
     "output_type": "stream",
     "text": [
      "The sum of even numbers is: 2548\n"
     ]
    }
   ],
   "source": [
    "num1 = int(input(\"write first number: \" )) #the starting number is entered\n",
    "num2 = int(input(\"write second number: \" )) #the end number is entered\n",
    "total_sum = 0\n",
    "\n",
    "if num1 < 0: #if the first number is less than 0, return an error statement\n",
    "    print(\"Invalid variable\")\n",
    "    num1 = int(input(\"write first number: \" ))\n",
    "    num2 = int(input(\"write second number: \" ))\n",
    "elif num2 < 0: #if the second number is less than 0, return an error statement\n",
    "    print(\"Invalid variable\")\n",
    "    num1 = int(input(\"write first number: \" ))\n",
    "    num2 = int(input(\"write second number: \" ))\n",
    "elif num1 > num2: #if the second number is bigger than the first number, return an error statement\n",
    "    print(\"first number must be smaller than second\") \n",
    "    num1 = int(input(\"write first number: \" ))\n",
    "    num2 = int(input(\"write second number: \" ))\n",
    "\n",
    "while num1 <= num2: #loops back through the code as long as first number is less than or equal to second number\n",
    "    if num1 % 2 ==0: #divides the number by 2 and checks if it has a remainder\n",
    "        total_sum += num1 #adds the number in num1 into total_sum \n",
    "\n",
    "    num1 += 1 #increments num1 by 1\n",
    "    \n",
    "print(\"The sum of even numbers is:\", total_sum) #outputs the value in total_sum"
   ]
  },
  {
   "cell_type": "markdown",
   "metadata": {},
   "source": [
    "2. **Question2**"
   ]
  },
  {
   "cell_type": "code",
   "execution_count": 1,
   "metadata": {},
   "outputs": [
    {
     "name": "stdin",
     "output_type": "stream",
     "text": [
      "type in a number 7\n",
      "type in a number 9\n",
      "type in a number finish\n"
     ]
    },
    {
     "name": "stdout",
     "output_type": "stream",
     "text": [
      "max number is 9\n",
      "minimum number is 7\n"
     ]
    }
   ],
   "source": [
    "Prime_Numbers = [] #creates an empty list\n",
    "\n",
    "while True: #initiates loop\n",
    "    num = input(\"type in a number, type finish once done\") #output message to user to enter a number\n",
    "    if num == \"finish\": #stops loop if user types in finish\n",
    "        max_value = max(Prime_Numbers) #finds the max value in prime_numbers list\n",
    "        min_value = min(Prime_Numbers) #finds the minimum value in prime_numbers list\n",
    "        print(\"max number is\", max_value) #outputs the biggest prime number\n",
    "        print(\"minimum number is\", min_value) #outputs the smallest prime number  \n",
    "        break #stops the infinite loop\n",
    "    try: #starts the code below if an error occurs\n",
    "        num = int(num) #turns num to an integer\n",
    "    except ValueError: #if an error value occurs such as a string instead of an integer it will return the statement below\n",
    "        print(\"not a number\")\n",
    "    if num > 1: #if num is bigger than 1\n",
    "        for i in range (2,num): #sets up loop to iterate from 2 and checks if the value in i can be divided by num\n",
    "            if (num % i) == 0: #checks if the number is a prime number by dividing num by i and seeing if there is a remainder\n",
    "                break #stops the loop\n",
    "            else: #alternate output\n",
    "                Prime_Numbers.append(num) #puts the result into Prime_Numbers"
   ]
  },
  {
   "cell_type": "markdown",
   "metadata": {},
   "source": [
    "3. **Question3**\n"
   ]
  },
  {
   "cell_type": "code",
   "execution_count": null,
   "metadata": {},
   "outputs": [],
   "source": [
    "name1 = input(\"Write first persons name\") #requests for the first persons name\n",
    "age1 = input(\"write first persons age\") #requests for the first persons age\n",
    "name2 = input(\"write second persons name\") #requests for the second persons name\n",
    "age2 = input(\"write second persons age\") #requests for the second persons age\n",
    "\n",
    "print(name1, \"is\" , age1, \"years old\") #outputs first persons name and age\n",
    "print(name2, \"is\" , age2, \"years old\") #outputs second persons name and age\n",
    "\n",
    "if age1 == age2: #checks if ages of both people are the same\n",
    "    print(name1, \"and\" ,name2, \"are the same age\") #outputs message that both people are the same age\n",
    "elif age1 > age2: #if the ages are different then executes the line below\n",
    "    print(name1, \"is\", int(age1) - int(age2), \"years older than\", name2) #outputs message of how much older person one if compared to person 2"
   ]
  },
  {
   "cell_type": "markdown",
   "metadata": {},
   "source": [
    "4. **Question4**"
   ]
  },
  {
   "cell_type": "code",
   "execution_count": 86,
   "metadata": {},
   "outputs": [
    {
     "name": "stdin",
     "output_type": "stream",
     "text": [
      "write first side length 1\n",
      "write second side length 1\n",
      "write third side length 2\n"
     ]
    },
    {
     "data": {
      "text/plain": [
       "'invalid triangle, lengths do not correlate'"
      ]
     },
     "execution_count": 86,
     "metadata": {},
     "output_type": "execute_result"
    }
   ],
   "source": [
    "def triangle (a, b, c): # define a function called triangle\n",
    "    if a+b <= c or a+c <= b or b+c <= a: # if the lengths of 2 sides are less than or equal to another length display the prompt below\n",
    "        return \"invalid triangle, lengths do not correlate\" #output error message that shape cannot be a triangle\n",
    "    else: #executes if condition above isnt met\n",
    "        if a == b and  b == c and a == c: #if all sides are equal to each other, output promp below\n",
    "            return \"equilateral triangle, lengths are all equal\" #output that the shape is an equilateral triangle\n",
    "        else: #executes if condition above isnt met\n",
    "            if a == b and a != c or b == a and b != c or a == c and a != c: #if two sides are the same but one isnt then prompt message below\n",
    "                return \"isosceles triangle, two lengths are the same\" #output that the shape is an isosceles triangle\n",
    "            else: #executes if condition above isnt met\n",
    "                if a != b or a != c: #if none of the sides are the same length output prompt below\n",
    "                    return \"scalene triangle, all sides are different\" #output that the shape is an scalene triangle\n",
    "          \n",
    "\n",
    "a = input(\"write first side length\") #requests for first length of the triangle\n",
    "b = input(\"write second side length\") #requests for second length of the triangle\n",
    "c = input(\"write third side length\") #requests for third length of the triangle\n",
    "\n",
    "triangle(a, b, c) #calls function to identify the shape of the triangle"
   ]
  },
  {
   "cell_type": "markdown",
   "metadata": {},
   "source": [
    "5. **Question5**"
   ]
  },
  {
   "cell_type": "code",
   "execution_count": 15,
   "metadata": {},
   "outputs": [
    {
     "name": "stdin",
     "output_type": "stream",
     "text": [
      "type in a number 7\n",
      "type in a number 4\n",
      "type in a number 8\n",
      "type in a number 947\n",
      "type in a number 3\n",
      "type in a number 76\n",
      "type in a number -1\n"
     ]
    },
    {
     "name": "stdout",
     "output_type": "stream",
     "text": [
      "minimum value -1\n",
      "['947', '8', '76', '7', '4', '3', '-1']\n"
     ]
    }
   ],
   "source": [
    "list_num = [] #creates empty list\n",
    "\n",
    "while True: #initiates loop\n",
    "    num = input(\"type in a number\") #value of num = the number typed in by the user\n",
    "    list_num.append(num) #prints the value entered by the user into the front of list\n",
    "    num = int(num) #converts the string to an integer\n",
    "    if num < 0: #if the number is smaller than 0 prompt line below      \n",
    "        break #stops the loop\n",
    "        print(list_num) #outputs the list      \n",
    "    \n",
    "list_num.sort() #sorts the list\n",
    "\n",
    "if list_num != []: #checks if the list is empty\n",
    "    minimum = list_num[0] #minimum value is in the list position 0\n",
    "\n",
    "    for num in list_num: #iterates through each number in the list\n",
    "        if num < minimum: #if a number is smaller than num prompt the line below\n",
    "            minimum = num #the new smaller number is now num \n",
    "else: #executes if line above isnt met\n",
    "    print(\"no values found\") #output that no numbers where entered\n",
    "\n",
    "reverse_list = list_num[::-1] #creates a new list which is list_num in reverse order\n",
    "print(\"minimum value\", minimum) #output the smallest value\n",
    "print (reverse_list) #outputs the reversed list"
   ]
  },
  {
   "cell_type": "markdown",
   "metadata": {},
   "source": [
    "6. **Question6**\n"
   ]
  },
  {
   "cell_type": "code",
   "execution_count": 48,
   "metadata": {},
   "outputs": [
    {
     "name": "stdin",
     "output_type": "stream",
     "text": [
      "Write your student ID one digit at a time 100484108\n"
     ]
    },
    {
     "name": "stdout",
     "output_type": "stream",
     "text": [
      "50242054\n",
      "0\n",
      "0\n",
      "1\n",
      "0\n",
      "0\n",
      "0\n",
      "0\n",
      "0\n",
      "1\n"
     ]
    }
   ],
   "source": [
    "id = int(input(\"Write your student ID one digit at a time\")) #requests for the students id one digit at a time\n",
    "idList = [] #creates an empty list\n",
    "\n",
    "for i in range(len(str(id))): #the loop iterates over the values in id\n",
    "  if int(str(id)[i]) % 2 == 0: #converts each id value in string to integer and makes sure its even if its divisible by 2\n",
    "    idList = [0] + idList #if the number is even it gets assigned 0 as its value\n",
    "  else: #executes line below if requirements above isnt met\n",
    "    idList = [1] + idList #assigns the value of 1 if its odd\n",
    "\n",
    "id = id//2 #divine id by 2 and discards any remainders and updates id\n",
    "print(id) #outputs id's current value\n",
    "for i in idList: #sets up loop to iterate over values in the idlist\n",
    "  print(i) #outputs the values one at a time"
   ]
  },
  {
   "cell_type": "markdown",
   "metadata": {},
   "source": [
    "7. **Question7**"
   ]
  },
  {
   "cell_type": "code",
   "execution_count": 71,
   "metadata": {},
   "outputs": [
    {
     "name": "stdin",
     "output_type": "stream",
     "text": [
      "Enter a number 9\n"
     ]
    },
    {
     "name": "stdout",
     "output_type": "stream",
     "text": [
      "1 \n",
      "3 3 3 \n",
      "5 5 5 5 5 \n",
      "7 7 7 7 7 7 7 \n",
      "9 9 9 9 9 9 9 9 9 \n"
     ]
    }
   ],
   "source": [
    "def number(num): #defines number as num\n",
    "    if num % 2 ==0: #if the number is divided by 2 and leaves 0 as a remainder goes to the line below\n",
    "        for h in range(2, num+1, 2): #starts at 2 and incremements by 2 and iterating through all the even numbers until num is reached\n",
    "            for v in range(h): #an inner loop that runs h times\n",
    "                print(h, end= \" \") #outputs the value of h with a space and on the same line\n",
    "            print() #outputs the next line after finishing the values of h\n",
    "    else: #executes line below if the number is odd\n",
    "        for h in range (1, num+1, 2): #starts at 1 and incremements by 2 and iterating through all the odd numbers until num is reached\n",
    "            for v in range(h): #an inner loop that runs h times\n",
    "                print(h, end= \" \") #outputs the value of h with a space and on the same line\n",
    "            print() #outputs the next line after finishing the values of h\n",
    "\n",
    "num = int(input(\"Enter a number\")) #request user to input a number and turns it into an integer\n",
    "number(num) #calls the number function"
   ]
  },
  {
   "cell_type": "markdown",
   "metadata": {},
   "source": [
    "8. **Question8**"
   ]
  },
  {
   "cell_type": "code",
   "execution_count": 158,
   "metadata": {},
   "outputs": [
    {
     "name": "stdin",
     "output_type": "stream",
     "text": [
      "Enter student name (or type 'end' to stop):  grace\n",
      "Enter student grade  90\n",
      "Enter student name (or type 'end' to stop):  adam\n",
      "Enter student grade  80\n",
      "Enter student name (or type 'end' to stop):  end\n"
     ]
    },
    {
     "name": "stdout",
     "output_type": "stream",
     "text": [
      "grace: 90\n",
      "adam: 80\n",
      "average grade: 85.00\n",
      "number of students: 2\n"
     ]
    }
   ],
   "source": [
    "student_dict = {} #creates an empty dictionary\n",
    "\n",
    "while True: #initiates loop\n",
    "    student_name = input(\"Enter student name (or type 'end' to stop): \") #requests user to put in a students name\n",
    "    if student_name.lower() == \"end\": #checks if user typed end\n",
    "        break #stops the loop\n",
    "    student_grade = int(input(\"Enter student grade \")) #requests the students grade to put in student grade\n",
    "    \n",
    "    student_dict[student_name] = student_grade #puts the name and grade of the student into the dictionary\n",
    "\n",
    "if student_dict: #checks if dictionary is not empty\n",
    "    total_grade = sum(student_dict.values()) #calculates the sum of the students grades\n",
    "    num_student = len(student_dict) #adds up the number of students there are\n",
    "    average_grade = total_grade / num_student #finds the average grade by dividing the total grades by amount of students\n",
    "    total = (average_grade, num_student) #stores average grade and number of students in a tuple    \n",
    "\n",
    "    for name, grade in student_dict.items(): #iterates over each item in the student dictionary\n",
    "        print(f\"{name}: {grade}\") #outputs the information in the dictionary\n",
    "\n",
    "    print(f\"average grade: {total[0]:.2f}\") #outputs the average grade to 2 decimal places\n",
    "    print(f\"number of students: {total[1]}\") #outputs number of students\n",
    "else: #if none of the requirements are met above, execute line below\n",
    "    print(\"No students entered\") #output invalid message\n"
   ]
  },
  {
   "cell_type": "markdown",
   "metadata": {},
   "source": [
    "9. **Question9**"
   ]
  },
  {
   "cell_type": "code",
   "execution_count": 206,
   "metadata": {},
   "outputs": [
    {
     "name": "stdin",
     "output_type": "stream",
     "text": [
      "Enter temperature 40\n",
      "Celsius or Fahrenheit? (C/F):  c\n"
     ]
    },
    {
     "name": "stdout",
     "output_type": "stream",
     "text": [
      "40C is 104.0F\n"
     ]
    }
   ],
   "source": [
    "def CtoF(celsius): #create a function to change celsius to fahrenheit\n",
    "    fahrenheit = (9/5) * celsius + 32 #calculates on converting celsius to fahrenheit\n",
    "    return fahrenheit #return with fahrenheit value\n",
    "\n",
    "def FtoC(fahrenheit): #creates a function to change fahrenheit to celsius\n",
    "    celsius = (5/9) * (fahrenheit - 32) #calculates on convertiong fahrenheit to celsius\n",
    "    return celsius # return with celsius value\n",
    "\n",
    "def tempcon():\n",
    "    temp = int(input(\"Enter temperature\")) #requests user to input a temperature value\n",
    "    unit = input(\"Celsius or Fahrenheit? (C/F): \").upper() #requests user to enter if the temperature \n",
    "\n",
    "    if unit == 'C': #if the unit entered is c then prompt the line below\n",
    "        print(f\"{temp}C is {CtoF(temp)}F\") #output the temperature initially entered with the converted fahrenheit temperature\n",
    "    elif unit == 'F': #if the unit entered is f then prompt the line below\n",
    "        print(f\"{temp}F is {FtoC(temp)}C\") #output the temperature initially entered with the converted celsius temperature\n",
    "    else: #if neither c or f are entered, prompt the line below\n",
    "        print(\"Invalid variable, Use C or F\") #outputs message to inform the user that the temperature unit is wrong\n",
    "  \n",
    "tempcon() #calls the tempcon function"
   ]
  }
 ],
 "metadata": {
  "colab": {
   "authorship_tag": "ABX9TyMs1egK+gNhmlnrfSn0ul8L",
   "provenance": []
  },
  "kernelspec": {
   "display_name": "Python 3 (ipykernel)",
   "language": "python",
   "name": "python3"
  },
  "language_info": {
   "codemirror_mode": {
    "name": "ipython",
    "version": 3
   },
   "file_extension": ".py",
   "mimetype": "text/x-python",
   "name": "python",
   "nbconvert_exporter": "python",
   "pygments_lexer": "ipython3",
   "version": "3.12.4"
  }
 },
 "nbformat": 4,
 "nbformat_minor": 4
}
